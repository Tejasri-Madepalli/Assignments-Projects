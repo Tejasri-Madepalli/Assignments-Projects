{
 "cells": [
  {
   "cell_type": "code",
   "execution_count": 1,
   "id": "93201926-aa9c-48a3-9b95-ecb98587faa7",
   "metadata": {},
   "outputs": [
    {
     "name": "stdout",
     "output_type": "stream",
     "text": [
      "i welcome you to perform calculations\n"
     ]
    },
    {
     "name": "stdin",
     "output_type": "stream",
     "text": [
      "enter value for a :  200\n",
      "enter value for b :  55\n",
      "enter operation symbol :  +\n"
     ]
    },
    {
     "name": "stdout",
     "output_type": "stream",
     "text": [
      "255\n"
     ]
    }
   ],
   "source": [
    "#advancedCalculatorWithErrorHandling\n",
    "def add(a,b):\n",
    "    return a+b\n",
    "def sub(a,b):\n",
    "    return a-b\n",
    "def mul(a,b):\n",
    "    return a*b\n",
    "def div(a,b):\n",
    "    if b==0:\n",
    "        return 'invalid b value'\n",
    "    else:\n",
    "        return a/b\n",
    "\n",
    "def calculator():\n",
    "\n",
    "    print(\"i welcome you to perform calculations\")\n",
    "    try:\n",
    "        a=int(input(\"enter value for a : \"))\n",
    "        b=int(input(\"enter value for b : \"))\n",
    "        oper=input(\"enter operation symbol : \")\n",
    "        if oper=='+':\n",
    "            print(add(a,b))\n",
    "        elif oper=='-':\n",
    "            print(sub(a,b))\n",
    "        elif oper=='*':\n",
    "            print(mul(a,b))\n",
    "        elif oper=='/':\n",
    "            print(div(a,b))\n",
    "        else:\n",
    "            print(\"invalid operator entered\")\n",
    "    except Exception as e:\n",
    "        print(e)\n",
    "calculator()\n"
   ]
  },
  {
   "cell_type": "code",
   "execution_count": null,
   "id": "ced1fa71-3f31-4b13-a1f6-de38cf9dd141",
   "metadata": {},
   "outputs": [],
   "source": []
  }
 ],
 "metadata": {
  "kernelspec": {
   "display_name": "Python 3 (ipykernel)",
   "language": "python",
   "name": "python3"
  },
  "language_info": {
   "codemirror_mode": {
    "name": "ipython",
    "version": 3
   },
   "file_extension": ".py",
   "mimetype": "text/x-python",
   "name": "python",
   "nbconvert_exporter": "python",
   "pygments_lexer": "ipython3",
   "version": "3.12.4"
  }
 },
 "nbformat": 4,
 "nbformat_minor": 5
}
