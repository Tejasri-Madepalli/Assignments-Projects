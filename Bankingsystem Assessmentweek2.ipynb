{
 "cells": [
  {
   "cell_type": "code",
   "execution_count": null,
   "id": "561808de-79c7-48bc-9ea1-0a4fd91551b0",
   "metadata": {},
   "outputs": [
    {
     "name": "stdout",
     "output_type": "stream",
     "text": [
      "\n",
      "--- Banking System Menu ---\n",
      "1. Check Balance\n",
      "2. Deposit Money\n",
      "3. Withdraw Money\n",
      "4. Exit\n"
     ]
    },
    {
     "name": "stdin",
     "output_type": "stream",
     "text": [
      "Please select an option (1-4):  \n"
     ]
    },
    {
     "name": "stdout",
     "output_type": "stream",
     "text": [
      "\n",
      "Error: Invalid option. Please select a valid menu option.\n",
      "\n",
      "--- Banking System Menu ---\n",
      "1. Check Balance\n",
      "2. Deposit Money\n",
      "3. Withdraw Money\n",
      "4. Exit\n"
     ]
    },
    {
     "name": "stdin",
     "output_type": "stream",
     "text": [
      "Please select an option (1-4):  2\n",
      "Enter the amount to deposit: $ 50000\n"
     ]
    },
    {
     "name": "stdout",
     "output_type": "stream",
     "text": [
      "\n",
      "$50000.00 has been deposited successfully.\n",
      "\n",
      "--- Banking System Menu ---\n",
      "1. Check Balance\n",
      "2. Deposit Money\n",
      "3. Withdraw Money\n",
      "4. Exit\n"
     ]
    },
    {
     "name": "stdin",
     "output_type": "stream",
     "text": [
      "Please select an option (1-4):  1\n"
     ]
    },
    {
     "name": "stdout",
     "output_type": "stream",
     "text": [
      "\n",
      "Your current balance is: $50000.00\n",
      "\n",
      "--- Banking System Menu ---\n",
      "1. Check Balance\n",
      "2. Deposit Money\n",
      "3. Withdraw Money\n",
      "4. Exit\n"
     ]
    },
    {
     "name": "stdin",
     "output_type": "stream",
     "text": [
      "Please select an option (1-4):  3\n",
      "Enter the amount to withdraw: $ 5\n"
     ]
    },
    {
     "name": "stdout",
     "output_type": "stream",
     "text": [
      "\n",
      "$5.00 has been withdrawn successfully.\n",
      "\n",
      "--- Banking System Menu ---\n",
      "1. Check Balance\n",
      "2. Deposit Money\n",
      "3. Withdraw Money\n",
      "4. Exit\n"
     ]
    },
    {
     "name": "stdin",
     "output_type": "stream",
     "text": [
      "Please select an option (1-4):  5\n"
     ]
    },
    {
     "name": "stdout",
     "output_type": "stream",
     "text": [
      "\n",
      "Error: Invalid option. Please select a valid menu option.\n",
      "\n",
      "--- Banking System Menu ---\n",
      "1. Check Balance\n",
      "2. Deposit Money\n",
      "3. Withdraw Money\n",
      "4. Exit\n"
     ]
    },
    {
     "name": "stdin",
     "output_type": "stream",
     "text": [
      "Please select an option (1-4):  2\n"
     ]
    }
   ],
   "source": [
    "\n",
    "balance = 0.0\n",
    "\n",
    "# Function to check and print the current balance\n",
    "def check_balance():\n",
    "    # Display the current balance with two decimal places\n",
    "    print(f\"\\nYour current balance is: ${balance:.2f}\")\n",
    "\n",
    "# Function to deposit money into the account\n",
    "def deposit(amount):\n",
    "    global balance\n",
    "    if amount > 0:\n",
    "        balance += amount\n",
    "        print(f\"\\n${amount:.2f} has been deposited successfully.\")\n",
    "    else:\n",
    "        print(\"\\nError: Deposit amount must be greater than zero.\")\n",
    "\n",
    "# Function to withdraw money from the account\n",
    "def withdraw(amount):\n",
    "    global balance\n",
    "    if amount > balance:\n",
    "        print(\"\\nError: Insufficient funds. You cannot withdraw more than the available balance.\")\n",
    "    elif amount <= 0:\n",
    "        print(\"\\nError: Withdrawal amount must be greater than zero.\")\n",
    "    else:\n",
    "        balance -= amount\n",
    "        print(f\"\\n${amount:.2f} has been withdrawn successfully.\")\n",
    "\n",
    "\n",
    "def banking_system():\n",
    "    while True:\n",
    "        print(\"\\n--- Banking System Menu ---\")\n",
    "        print(\"1. Check Balance\")\n",
    "        print(\"2. Deposit Money\")\n",
    "        print(\"3. Withdraw Money\")\n",
    "        print(\"4. Exit\")\n",
    "        choice = input(\"Please select an option (1-4): \")\n",
    "         # Check if there are any transactions recorded\n",
    "        if choice == \"1\":\n",
    "            check_balance()\n",
    "        elif choice == \"2\":\n",
    "            try:\n",
    "                amount = float(input(\"Enter the amount to deposit: $\"))\n",
    "                deposit(amount)\n",
    "            except ValueError:\n",
    "                print(\"\\nError: Please enter a valid number for the deposit.\")\n",
    "        elif choice == \"3\":\n",
    "            try:\n",
    "                amount = float(input(\"Enter the amount to withdraw: $\"))\n",
    "                withdraw(amount)\n",
    "            except ValueError:\n",
    "                print(\"\\nError: Please enter a valid number for the withdrawal.\")\n",
    "        elif choice == \"4\":\n",
    "            print(\"\\nThank you for using the banking system. Goodbye!\")\n",
    "            break\n",
    "            # If no transactions have been made, display this message\n",
    "        else:\n",
    "            print(\"\\nError: Invalid option. Please select a valid menu option.\")\n",
    "\n",
    "\n",
    "banking_system()\n"
   ]
  },
  {
   "cell_type": "code",
   "execution_count": null,
   "id": "25f5ec7d-12fc-4218-8423-15291edac0bf",
   "metadata": {},
   "outputs": [],
   "source": []
  }
 ],
 "metadata": {
  "kernelspec": {
   "display_name": "Python 3 (ipykernel)",
   "language": "python",
   "name": "python3"
  },
  "language_info": {
   "codemirror_mode": {
    "name": "ipython",
    "version": 3
   },
   "file_extension": ".py",
   "mimetype": "text/x-python",
   "name": "python",
   "nbconvert_exporter": "python",
   "pygments_lexer": "ipython3",
   "version": "3.12.4"
  }
 },
 "nbformat": 4,
 "nbformat_minor": 5
}
