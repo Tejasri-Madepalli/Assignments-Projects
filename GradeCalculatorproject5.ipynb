{
 "cells": [
  {
   "cell_type": "code",
   "execution_count": 1,
   "id": "2da521e8-e191-45ef-a038-ffe4e0d1f5f5",
   "metadata": {},
   "outputs": [
    {
     "name": "stdin",
     "output_type": "stream",
     "text": [
      "Enter the score for Math:  50\n",
      "Enter the score for Science:  90\n",
      "Enter the score for English:  80\n",
      "Enter the score for History:  40\n",
      "Enter the score for Art:  60\n"
     ]
    },
    {
     "name": "stdout",
     "output_type": "stream",
     "text": [
      "\n",
      "Average Score: 64.00\n",
      "Grade: D\n",
      "Feedback: You need to work harder.\n"
     ]
    }
   ],
   "source": [
    " math = float(input(\"Enter the score for Math: \"))\n",
    "science = float(input(\"Enter the score for Science: \"))\n",
    "english = float(input(\"Enter the score for English: \"))\n",
    "history = float(input(\"Enter the score for History: \"))\n",
    "art = float(input(\"Enter the score for Art: \"))\n",
    "\n",
    "# Calculate the average score\n",
    "total_score = math + science + english + history + art\n",
    "average_score = total_score / 5\n",
    "\n",
    "# Assign a grade based on the average score\n",
    "if  average_score >= 90  and average_score <= 100:\n",
    "    grade = 'A'\n",
    "    feedback = \"Excellent work!\"\n",
    "elif (average_score  >= 80  and  average_score < 90):\n",
    "    grade = 'B'\n",
    "    feedback = \"Good job! Keep it up.\"\n",
    "elif (average_score  >= 70  and  average_score < 80):\n",
    "    grade = 'C'\n",
    "    feedback = \"Fair performance, but there's room for improvement.\"\n",
    "elif (average_score  >= 60  and  average_score < 80):\n",
    "    grade = 'D'\n",
    "    feedback = \"You need to work harder.\"\n",
    "else:\n",
    "    grade = 'F'\n",
    "    feedback = \"Failing grade. It's important to study more.\"\n",
    "\n",
    "# Display the average score, grade, and feedback\n",
    "print(f\"\\nAverage Score: {average_score:.2f}\")\n",
    "print(f\"Grade: {grade}\")\n",
    "print(f\"Feedback: {feedback}\")"
   ]
  },
  {
   "cell_type": "code",
   "execution_count": null,
   "id": "0dfaaa62-8cda-4483-b874-0077c454d52e",
   "metadata": {},
   "outputs": [],
   "source": []
  }
 ],
 "metadata": {
  "kernelspec": {
   "display_name": "Python 3 (ipykernel)",
   "language": "python",
   "name": "python3"
  },
  "language_info": {
   "codemirror_mode": {
    "name": "ipython",
    "version": 3
   },
   "file_extension": ".py",
   "mimetype": "text/x-python",
   "name": "python",
   "nbconvert_exporter": "python",
   "pygments_lexer": "ipython3",
   "version": "3.12.4"
  }
 },
 "nbformat": 4,
 "nbformat_minor": 5
}
