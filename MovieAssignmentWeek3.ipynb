{
 "cells": [
  {
   "cell_type": "code",
   "execution_count": 3,
   "id": "4ddcd987-cdc2-433e-83d3-d6f62e9686bf",
   "metadata": {},
   "outputs": [
    {
     "name": "stdout",
     "output_type": "stream",
     "text": [
      "Teju's recommendations: Inception, Parasite, Interstellar\n",
      "sri's recommendations: Joker, The Godfather\n",
      "Sachin's recommendations: The Dark Knight\n"
     ]
    }
   ],
   "source": [
    "#List of movies with title, genre, and rating\n",
    "movies = [\n",
    "    {\"title\": \"Parasite\", \"genre\": \"Thriller\", \"rating\": 8.8},\n",
    "    {\"title\": \"The Godfather\", \"genre\": \"Crime\", \"rating\": 9.2},\n",
    "    {\"title\": \"The Dark Knight\", \"genre\": \"Action\", \"rating\": 9.0},\n",
    "    {\"title\": \"Joker\", \"genre\": \"Drama\", \"rating\": 8.6},\n",
    "    {\"title\": \"Interstellar\", \"genre\": \"Sci-Fi\", \"rating\": 8.6},\n",
    "    {\"title\": \"Inception\", \"genre\": \"Sci-Fi\", \"rating\": 8.5}\n",
    "]\n",
    "\n",
    "# Dictionary of user preferencesInception\", \"genre\": \"Sci-Fi\", \"rating\n",
    "user_preferences = {\n",
    "    \"Teju\": [\"Sci-Fi\", \"Thriller\"],\n",
    "    \"sri\": [\"Crime\", \"Drama\"],\n",
    "    \"Sachin\": [\"Action\", \"Horror\"]\n",
    "}\n",
    "\n",
    "# Function to recommend movies based on user preferences\n",
    "def recommend_movies(user):\n",
    "    preferred_genres = set(user_preferences.get(user, []))\n",
    "    recommendations = set()\n",
    "    \n",
    "    for movie in movies:\n",
    "        if movie[\"genre\"] in preferred_genres:\n",
    "            recommendations.add(movie[\"title\"])\n",
    "    \n",
    "    return recommendations\n",
    "\n",
    "# Function to display movie recommendations for all users\n",
    "def display_recommendations():\n",
    "    for user in user_preferences:\n",
    "        recommendations = recommend_movies(user)\n",
    "        print(f\"{user}'s recommendations: {', '.join(recommendations)}\")\n",
    "\n",
    "# Example usage\n",
    "display_recommendations()\n"
   ]
  },
  {
   "cell_type": "code",
   "execution_count": null,
   "id": "265f33f3-407c-46cd-898a-cf17e0da625f",
   "metadata": {},
   "outputs": [],
   "source": []
  }
 ],
 "metadata": {
  "kernelspec": {
   "display_name": "Python 3 (ipykernel)",
   "language": "python",
   "name": "python3"
  },
  "language_info": {
   "codemirror_mode": {
    "name": "ipython",
    "version": 3
   },
   "file_extension": ".py",
   "mimetype": "text/x-python",
   "name": "python",
   "nbconvert_exporter": "python",
   "pygments_lexer": "ipython3",
   "version": "3.12.4"
  }
 },
 "nbformat": 4,
 "nbformat_minor": 5
}
