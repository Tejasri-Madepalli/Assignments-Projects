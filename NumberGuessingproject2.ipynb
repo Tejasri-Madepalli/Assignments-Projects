{
 "cells": [
  {
   "cell_type": "code",
   "execution_count": 1,
   "id": "baaa5476-da4d-4a5c-a9ac-9d33fa850c13",
   "metadata": {},
   "outputs": [
    {
     "name": "stdout",
     "output_type": "stream",
     "text": [
      " welcome to the guessing game\n",
      " The game will be continud untill the correct answer is provided , so no worries\n",
      " But the numbetr of attempts will be displayed\n",
      "All the best\n"
     ]
    },
    {
     "name": "stdin",
     "output_type": "stream",
     "text": [
      "guess the number:- 60\n"
     ]
    },
    {
     "name": "stdout",
     "output_type": "stream",
     "text": [
      " number you provided 60 think lower\n",
      " your num of attempts 1\n"
     ]
    },
    {
     "name": "stdin",
     "output_type": "stream",
     "text": [
      "guess the number:- 56\n"
     ]
    },
    {
     "name": "stdout",
     "output_type": "stream",
     "text": [
      " number you provided 56 think lower\n",
      " your num of attempts 2\n"
     ]
    },
    {
     "name": "stdin",
     "output_type": "stream",
     "text": [
      "guess the number:- 35\n"
     ]
    },
    {
     "name": "stdout",
     "output_type": "stream",
     "text": [
      "number you provided 35  think higher\n",
      " your num of attempts 3\n"
     ]
    },
    {
     "name": "stdin",
     "output_type": "stream",
     "text": [
      "guess the number:- 50\n"
     ]
    },
    {
     "name": "stdout",
     "output_type": "stream",
     "text": [
      " number you provided 50 think lower\n",
      " your num of attempts 4\n"
     ]
    },
    {
     "name": "stdin",
     "output_type": "stream",
     "text": [
      "guess the number:- 40\n"
     ]
    },
    {
     "name": "stdout",
     "output_type": "stream",
     "text": [
      "number you provided 40  think higher\n",
      " your num of attempts 5\n"
     ]
    },
    {
     "name": "stdin",
     "output_type": "stream",
     "text": [
      "guess the number:- 45\n"
     ]
    },
    {
     "name": "stdout",
     "output_type": "stream",
     "text": [
      " number you provided 45 think lower\n",
      " your num of attempts 6\n"
     ]
    },
    {
     "name": "stdin",
     "output_type": "stream",
     "text": [
      "guess the number:- 41\n"
     ]
    },
    {
     "name": "stdout",
     "output_type": "stream",
     "text": [
      "number you provided 41  think higher\n",
      " your num of attempts 7\n"
     ]
    },
    {
     "name": "stdin",
     "output_type": "stream",
     "text": [
      "guess the number:- 43\n"
     ]
    },
    {
     "name": "stdout",
     "output_type": "stream",
     "text": [
      "number you provided 43  think higher\n",
      " your num of attempts 8\n"
     ]
    },
    {
     "name": "stdin",
     "output_type": "stream",
     "text": [
      "guess the number:- 44\n"
     ]
    },
    {
     "name": "stdout",
     "output_type": "stream",
     "text": [
      " hooray! you rocked \n"
     ]
    }
   ],
   "source": [
    "import random\n",
    "rand = random.randint(1,100)\n",
    "print(\" welcome to the guessing game\")\n",
    "print(\" The game will be continud untill the correct answer is provided , so no worries\")\n",
    "print(\" But the numbetr of attempts will be displayed\")\n",
    "print(\"All the best\") \n",
    "attempts=0\n",
    "while True:\n",
    "    guess = int(input(\"guess the number:-\"))\n",
    "    if rand == guess:\n",
    "        print(\" hooray! you rocked \")\n",
    "        break\n",
    "    elif rand > guess:\n",
    "        print(f\"number you provided {guess}  think higher\")\n",
    "    else:\n",
    "        print(f\" number you provided {guess} think lower\")\n",
    "    attempts +=1\n",
    "    print(f\" your num of attempts {attempts}\")"
   ]
  },
  {
   "cell_type": "code",
   "execution_count": null,
   "id": "a58e839a-c816-4aa9-8a50-40fc27880d2f",
   "metadata": {},
   "outputs": [],
   "source": []
  }
 ],
 "metadata": {
  "kernelspec": {
   "display_name": "Python 3 (ipykernel)",
   "language": "python",
   "name": "python3"
  },
  "language_info": {
   "codemirror_mode": {
    "name": "ipython",
    "version": 3
   },
   "file_extension": ".py",
   "mimetype": "text/x-python",
   "name": "python",
   "nbconvert_exporter": "python",
   "pygments_lexer": "ipython3",
   "version": "3.12.4"
  }
 },
 "nbformat": 4,
 "nbformat_minor": 5
}
