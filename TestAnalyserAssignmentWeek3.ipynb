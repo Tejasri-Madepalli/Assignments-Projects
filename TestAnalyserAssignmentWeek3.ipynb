{
 "cells": [
  {
   "cell_type": "code",
   "execution_count": 1,
   "id": "7e2610e6-ff13-439d-8345-d46ede8309a2",
   "metadata": {},
   "outputs": [
    {
     "name": "stdout",
     "output_type": "stream",
     "text": [
      "Total words: 8\n",
      "Unique words: 8\n",
      "Word            Frequency\n",
      "-------------------------\n",
      "this            1\n",
      "word            1\n",
      "is              1\n",
      "to              1\n",
      "test            1\n",
      "the             1\n",
      "sample          1\n",
      "frequency       1\n"
     ]
    }
   ],
   "source": [
    "# Sample paragraph\n",
    "text = \"This Word is to test the sample Frequency.\"\n",
    "\n",
    "# Split text into words\n",
    "words = text.lower().split()\n",
    "\n",
    "# Use set to find unique words\n",
    "unique_words = set(words)\n",
    "\n",
    "# Count word frequencies using a dictionary\n",
    "word_count = {}\n",
    "for word in words:\n",
    "    word = word.strip('.,')  # Removing punctuation\n",
    "    word_count[word] = word_count.get(word, 0) + 1\n",
    "\n",
    "# Function to display word frequencies neatly\n",
    "def display_word_frequencies(word_count):\n",
    "    print(\"Word\".ljust(15), \"Frequency\")\n",
    "    print(\"-\" * 25)\n",
    "    for word, count in word_count.items():\n",
    "        print(f\"{word.ljust(15)} {count}\")\n",
    "\n",
    "# Display results\n",
    "print(f\"Total words: {len(words)}\")\n",
    "print(f\"Unique words: {len(unique_words)}\")\n",
    "display_word_frequencies(word_count)"
   ]
  },
  {
   "cell_type": "code",
   "execution_count": null,
   "id": "1f2a6247-136e-42f9-8dd4-d6d28026f699",
   "metadata": {},
   "outputs": [],
   "source": []
  }
 ],
 "metadata": {
  "kernelspec": {
   "display_name": "Python 3 (ipykernel)",
   "language": "python",
   "name": "python3"
  },
  "language_info": {
   "codemirror_mode": {
    "name": "ipython",
    "version": 3
   },
   "file_extension": ".py",
   "mimetype": "text/x-python",
   "name": "python",
   "nbconvert_exporter": "python",
   "pygments_lexer": "ipython3",
   "version": "3.12.4"
  }
 },
 "nbformat": 4,
 "nbformat_minor": 5
}
