{
 "cells": [
  {
   "cell_type": "code",
   "execution_count": null,
   "id": "b56e0d66-8507-4460-a261-cfed3d3065fa",
   "metadata": {},
   "outputs": [
    {
     "name": "stdout",
     "output_type": "stream",
     "text": [
      "Welcome to the Advanced Number Guessing Game!\n",
      "I have chosen a number between 1 and 100.\n"
     ]
    },
    {
     "name": "stdin",
     "output_type": "stream",
     "text": [
      "Enter your guess:  5\n"
     ]
    },
    {
     "name": "stdout",
     "output_type": "stream",
     "text": [
      "Way too cold!\n"
     ]
    },
    {
     "name": "stdin",
     "output_type": "stream",
     "text": [
      "Enter your guess:  8\n"
     ]
    },
    {
     "name": "stdout",
     "output_type": "stream",
     "text": [
      "Warmer!\n"
     ]
    },
    {
     "name": "stdin",
     "output_type": "stream",
     "text": [
      "Enter your guess:  2\n"
     ]
    },
    {
     "name": "stdout",
     "output_type": "stream",
     "text": [
      "Colder!\n"
     ]
    },
    {
     "name": "stdin",
     "output_type": "stream",
     "text": [
      "Enter your guess:  4\n"
     ]
    },
    {
     "name": "stdout",
     "output_type": "stream",
     "text": [
      "Warmer!\n"
     ]
    },
    {
     "name": "stdin",
     "output_type": "stream",
     "text": [
      "Enter your guess:  3\n"
     ]
    },
    {
     "name": "stdout",
     "output_type": "stream",
     "text": [
      "Colder!\n"
     ]
    },
    {
     "name": "stdin",
     "output_type": "stream",
     "text": [
      "Enter your guess:  5\n"
     ]
    },
    {
     "name": "stdout",
     "output_type": "stream",
     "text": [
      "Warmer!\n"
     ]
    }
   ],
   "source": [
    "#AdvancedNumberGuessingGame.py\n",
    "import random\n",
    "\n",
    "def get_hint(guess, actual, previous_guess=None):\n",
    "    if guess == actual:\n",
    "        return \"Correct!\"\n",
    "    \n",
    "    # Calculate the absolute difference\n",
    "    difference = abs(guess - actual)\n",
    "\n",
    "    # Hint logic based on difference\n",
    "    if previous_guess is None:\n",
    "        if difference > 20:\n",
    "            return \"Way too cold!\"\n",
    "        elif difference > 10:\n",
    "            return \"Cold!\"\n",
    "        elif difference > 5:\n",
    "            return \"Warm!\"\n",
    "        else:\n",
    "            return \"You're getting really warm!\"\n",
    "    else:\n",
    "        previous_difference = abs(previous_guess - actual)\n",
    "        if difference < previous_difference:\n",
    "            return \"Warmer!\"\n",
    "        elif difference > previous_difference:\n",
    "            return \"Colder!\"\n",
    "        else:\n",
    "            return \"Same distance!\"\n",
    "\n",
    "def play_game():\n",
    "    actual_number = random.randint(1, 100)  # Random number between 1 and 100\n",
    "    attempts = 0\n",
    "    previous_guess = None\n",
    "    \n",
    "    print(\"Welcome to the Advanced Number Guessing Game!\")\n",
    "    print(\"I have chosen a number between 1 and 100.\")\n",
    "    \n",
    "    while True:\n",
    "        try:\n",
    "            guess = int(input(\"Enter your guess: \"))\n",
    "            attempts += 1\n",
    "            \n",
    "            # Get the hint based on the guess and actual number\n",
    "            hint = get_hint(guess, actual_number, previous_guess)\n",
    "            print(hint)\n",
    "            \n",
    "            if guess == actual_number:\n",
    "                break\n",
    "            \n",
    "            previous_guess = guess  # Updating the previous guess\n",
    "        except ValueError:\n",
    "            print(\"Please enter a valid integer.\")\n",
    "    \n",
    "    # Scoring system: 100 points minus 2 points for each wrong attempt\n",
    "    score = max(100 - (attempts - 1) * 2, 0)\n",
    "    print(f\"Congratulations! You guessed the number in {attempts} attempts.\")\n",
    "    print(f\"Your score: {score}\")\n",
    "\n",
    "# Start the game\n",
    "\n",
    "play_game()"
   ]
  },
  {
   "cell_type": "code",
   "execution_count": null,
   "id": "33aa091f-5842-4240-a808-9a121478ba1e",
   "metadata": {},
   "outputs": [],
   "source": []
  }
 ],
 "metadata": {
  "kernelspec": {
   "display_name": "Python 3 (ipykernel)",
   "language": "python",
   "name": "python3"
  },
  "language_info": {
   "codemirror_mode": {
    "name": "ipython",
    "version": 3
   },
   "file_extension": ".py",
   "mimetype": "text/x-python",
   "name": "python",
   "nbconvert_exporter": "python",
   "pygments_lexer": "ipython3",
   "version": "3.12.4"
  }
 },
 "nbformat": 4,
 "nbformat_minor": 5
}
