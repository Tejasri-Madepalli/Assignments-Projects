{
 "cells": [
  {
   "cell_type": "code",
   "execution_count": 1,
   "id": "c403383b-1b8b-4c1e-b6dd-fefd74a16f8d",
   "metadata": {},
   "outputs": [
    {
     "name": "stdout",
     "output_type": "stream",
     "text": [
      "Unique Categories: {'Health', 'Entertainment', 'Transport', 'Food'}\n",
      "Expense Summary by Category: {'Health': 40, 'Entertainment': 30, 'Transport': 15, 'Food': 125}\n"
     ]
    }
   ],
   "source": [
    "# List to store expense entries (each entry is a tuple)\n",
    "expenses = [\n",
    "    (\"Groceries\", 100, \"Food\"),\n",
    "    (\"Bus fare\", 15, \"Transport\"),\n",
    "    (\"Lunch\", 25, \"Food\"),\n",
    "    (\"Movie ticket\", 30, \"Entertainment\"),\n",
    "    (\"Gym membership\", 40, \"Health\")\n",
    "]\n",
    "\n",
    "# Extract unique categories using sets\n",
    "categories = {expense[2] for expense in expenses}\n",
    "\n",
    "# Dictionary comprehension to summarize expenses by category\n",
    "expense_summary = {category: sum(expense[1] for expense in expenses if expense[2] == category) for category in categories}\n",
    "\n",
    "# Output results\n",
    "print(f\"Unique Categories: {categories}\")\n",
    "print(f\"Expense Summary by Category: {expense_summary}\")"
   ]
  },
  {
   "cell_type": "code",
   "execution_count": null,
   "id": "9908737a-5731-4041-a069-9ff0be746cf5",
   "metadata": {},
   "outputs": [],
   "source": []
  }
 ],
 "metadata": {
  "kernelspec": {
   "display_name": "Python 3 (ipykernel)",
   "language": "python",
   "name": "python3"
  },
  "language_info": {
   "codemirror_mode": {
    "name": "ipython",
    "version": 3
   },
   "file_extension": ".py",
   "mimetype": "text/x-python",
   "name": "python",
   "nbconvert_exporter": "python",
   "pygments_lexer": "ipython3",
   "version": "3.12.4"
  }
 },
 "nbformat": 4,
 "nbformat_minor": 5
}
