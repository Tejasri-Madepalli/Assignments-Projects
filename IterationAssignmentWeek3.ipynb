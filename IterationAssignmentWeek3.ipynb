{
 "cells": [
  {
   "cell_type": "code",
   "execution_count": 1,
   "id": "50803693-efa4-4a76-8c44-ce5e24e84411",
   "metadata": {},
   "outputs": [
    {
     "name": "stdout",
     "output_type": "stream",
     "text": [
      "Task 'Call client' marked as completed.\n",
      "Task 'Buy groceries' removed.\n",
      "Incomplete tasks:\n",
      " - Finish report (Due: 2024-10-01)\n",
      " - Go to the gym (Due: 2024-09-30)\n",
      "\n",
      "Completed tasks:\n",
      " - Call client (Due: 2024-09-29)\n"
     ]
    }
   ],
   "source": [
    "# List of tasks (each task is a tuple of (task name, due date))\n",
    "tasks = [\n",
    "    (\"Finish report\", \"2024-10-01\"),\n",
    "    (\"Buy groceries\", \"2024-09-30\"),\n",
    "    (\"Call client\", \"2024-09-29\")\n",
    "]\n",
    "\n",
    "# Dictionary to store task status (True = completed, False = incomplete)\n",
    "task_status = {task: False for task in tasks}\n",
    "\n",
    "# Function to add a new task\n",
    "def add_task(task_name, due_date):\n",
    "    task = (task_name, due_date)\n",
    "    tasks.append(task)\n",
    "    task_status[task] = False\n",
    "\n",
    "# Function to remove a task\n",
    "def remove_task(task_name):\n",
    "    for task in tasks:\n",
    "        if task[0] == task_name:\n",
    "            tasks.remove(task)\n",
    "            del task_status[task]\n",
    "            print(f\"Task '{task_name}' removed.\")\n",
    "            break\n",
    "    else:\n",
    "        print(f\"Task '{task_name}' not found.\")\n",
    "\n",
    "# Function to mark a task as completed\n",
    "def complete_task(task_name):\n",
    "    for task in tasks:\n",
    "        if task[0] == task_name:\n",
    "            task_status[task] = True\n",
    "            print(f\"Task '{task_name}' marked as completed.\")\n",
    "            break\n",
    "    else:\n",
    "        print(f\"Task '{task_name}' not found.\")\n",
    "\n",
    "# Function to display tasks by status (completed/incomplete)\n",
    "def display_tasks():\n",
    "    print(\"Incomplete tasks:\")\n",
    "    for task, status in task_status.items():\n",
    "        if not status:\n",
    "            print(f\" - {task[0]} (Due: {task[1]})\")\n",
    "    \n",
    "    print(\"\\nCompleted tasks:\")\n",
    "    for task, status in task_status.items():\n",
    "        if status:\n",
    "            print(f\" - {task[0]} (Due: {task[1]})\")\n",
    "\n",
    "# Example usage\n",
    "add_task(\"Go to the gym\", \"2024-09-30\")\n",
    "complete_task(\"Call client\")\n",
    "remove_task(\"Buy groceries\")\n",
    "display_tasks()\n"
   ]
  },
  {
   "cell_type": "code",
   "execution_count": null,
   "id": "76d646dd-81a8-4fb1-abe3-2d4b7242222e",
   "metadata": {},
   "outputs": [],
   "source": []
  }
 ],
 "metadata": {
  "kernelspec": {
   "display_name": "Python 3 (ipykernel)",
   "language": "python",
   "name": "python3"
  },
  "language_info": {
   "codemirror_mode": {
    "name": "ipython",
    "version": 3
   },
   "file_extension": ".py",
   "mimetype": "text/x-python",
   "name": "python",
   "nbconvert_exporter": "python",
   "pygments_lexer": "ipython3",
   "version": "3.12.4"
  }
 },
 "nbformat": 4,
 "nbformat_minor": 5
}
