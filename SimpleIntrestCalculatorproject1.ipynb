{
 "cells": [
  {
   "cell_type": "code",
   "execution_count": 1,
   "id": "cc52c3c2-e915-4a56-8bc2-6339d2597947",
   "metadata": {},
   "outputs": [
    {
     "name": "stdin",
     "output_type": "stream",
     "text": [
      " enter principal amount :-  30\n",
      " enter rate of interest:- 3\n",
      " enter time:- 11\n"
     ]
    },
    {
     "name": "stdout",
     "output_type": "stream",
     "text": [
      "Simple Interest: 9.9\n",
      "Total Amount : 39.9\n"
     ]
    }
   ],
   "source": [
    "p = float(input(\" enter principal amount :- \"))\n",
    "R = float(input(\" enter rate of interest:-\"))\n",
    "T = float(input(\" enter time:-\"))\n",
    "SI = (p*R*T)/100\n",
    "Total_amount = SI + p \n",
    "print(f\"Simple Interest: {SI}\")\n",
    "print(f\"Total Amount : {Total_amount}\")"
   ]
  },
  {
   "cell_type": "code",
   "execution_count": null,
   "id": "c4aa285f-04a3-4532-8f18-5af144dbe994",
   "metadata": {},
   "outputs": [],
   "source": []
  }
 ],
 "metadata": {
  "kernelspec": {
   "display_name": "Python 3 (ipykernel)",
   "language": "python",
   "name": "python3"
  },
  "language_info": {
   "codemirror_mode": {
    "name": "ipython",
    "version": 3
   },
   "file_extension": ".py",
   "mimetype": "text/x-python",
   "name": "python",
   "nbconvert_exporter": "python",
   "pygments_lexer": "ipython3",
   "version": "3.12.4"
  }
 },
 "nbformat": 4,
 "nbformat_minor": 5
}
