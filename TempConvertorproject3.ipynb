{
 "cells": [
  {
   "cell_type": "code",
   "execution_count": 7,
   "id": "99a4e665-3830-4ca6-9778-237dfca4e63e",
   "metadata": {},
   "outputs": [
    {
     "name": "stdin",
     "output_type": "stream",
     "text": [
      "Enter the temperature value:  30\n",
      "Enter the unit of the temperature (C for Celsius, F for Fahrenheit, K for Kelvin):  c\n",
      "Enter the unit to convert to (C for Celsius, F for Fahrenheit, K for Kelvin):  k\n"
     ]
    },
    {
     "name": "stdout",
     "output_type": "stream",
     "text": [
      "30.0°C is equal to 303.15°K\n"
     ]
    }
   ],
   "source": [
    "def convert_temperature(value, from_unit, to_unit):\n",
    "    \"\"\"\n",
    "    Convert temperature from one unit to another.\n",
    "    \"\"\"\n",
    "    if from_unit == to_unit:\n",
    "        return value\n",
    "    \n",
    "    # Convert the input temperature to Celsius first\n",
    "    if from_unit == 'C':\n",
    "        temp_in_celsius = value\n",
    "    elif from_unit == 'F':\n",
    "        temp_in_celsius = (value - 32) * 5 / 9\n",
    "    elif from_unit == 'K':\n",
    "        temp_in_celsius = value - 273.15\n",
    "    else:\n",
    "        raise ValueError(\"Invalid from_unit provided\")\n",
    "\n",
    "    # Convert from Celsius to the target unit\n",
    "    if to_unit == 'C':\n",
    "        return temp_in_celsius\n",
    "    elif to_unit == 'F':\n",
    "        return temp_in_celsius * 9 / 5 + 32\n",
    "    elif to_unit == 'K':\n",
    "        return temp_in_celsius + 273.15\n",
    "    else:\n",
    "        raise ValueError(\"Invalid to_unit provided\")\n",
    "\n",
    "def main():\n",
    "    try:\n",
    "        # Input temperature and units\n",
    "        temp_value = float(input(\"Enter the temperature value: \"))\n",
    "        from_unit = input(\"Enter the unit of the temperature (C for Celsius, F for Fahrenheit, K for Kelvin): \").upper()\n",
    "        to_unit = input(\"Enter the unit to convert to (C for Celsius, F for Fahrenheit, K for Kelvin): \").upper()\n",
    "        \n",
    "        # Validate units\n",
    "        if from_unit not in ['C', 'F', 'K'] or to_unit not in ['C', 'F', 'K']:\n",
    "            print(\"Invalid unit entered. Please use 'C', 'F', or 'K'.\")\n",
    "            return\n",
    "        \n",
    "        # Perform the conversion\n",
    "        converted_temp = convert_temperature(temp_value, from_unit, to_unit)\n",
    "        \n",
    "        # Display result\n",
    "        print(f\"{temp_value}°{from_unit} is equal to {converted_temp:.2f}°{to_unit}\")\n",
    "    \n",
    "    except ValueError:\n",
    "        print(\"Invalid input! Please enter numeric values for temperature.\")\n",
    "\n",
    "# Run the program\n",
    "if __name__ == \"__main__\":\n",
    "    main()\n"
   ]
  },
  {
   "cell_type": "code",
   "execution_count": null,
   "id": "90cc7d2d-f2fe-46f2-bc20-a13fb59bd52d",
   "metadata": {},
   "outputs": [],
   "source": []
  }
 ],
 "metadata": {
  "kernelspec": {
   "display_name": "Python 3 (ipykernel)",
   "language": "python",
   "name": "python3"
  },
  "language_info": {
   "codemirror_mode": {
    "name": "ipython",
    "version": 3
   },
   "file_extension": ".py",
   "mimetype": "text/x-python",
   "name": "python",
   "nbconvert_exporter": "python",
   "pygments_lexer": "ipython3",
   "version": "3.12.4"
  }
 },
 "nbformat": 4,
 "nbformat_minor": 5
}
