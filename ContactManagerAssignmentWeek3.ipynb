{
 "cells": [
  {
   "cell_type": "code",
   "execution_count": 1,
   "id": "06cc5b73-0f3a-4e1b-999b-54572c83b0ec",
   "metadata": {},
   "outputs": [
    {
     "name": "stdout",
     "output_type": "stream",
     "text": [
      "Name: Tejasri\n",
      "Phone: 9381866466\n",
      "Email: madepallitej@gmail.com\n",
      "\n",
      "Name: Sonia\n",
      "Phone: 7896582355\n",
      "Email: Soniashaik@gmail.com\n",
      "\n",
      "Name: Ruhin\n",
      "Phone: 8963254785\n",
      "Email: ruhin@workmail.com\n",
      "\n",
      "Name: Teju\n",
      "Phone: 9658447888\n",
      "Email: tej33@gmail.com\n",
      "\n",
      "Contacts with Gmail addresses:\n",
      "Name: Tejasri\n",
      "Phone: 9381866466\n",
      "Email: madepallitej@gmail.com\n",
      "\n",
      "Name: Sonia\n",
      "Phone: 7896582355\n",
      "Email: Soniashaik@gmail.com\n",
      "\n"
     ]
    }
   ],
   "source": [
    "# Contact dictionary\n",
    "contacts = {\n",
    "    \"Tejasri\": {\"phone\": \"9381866466\", \"email\": \"tejasrimadepalli@gmail.com\"},\n",
    "    \"Sonia\": {\"phone\": \"7896582355\", \"email\": \"Soniashaik@gmail.com\"},\n",
    "    \"Ruhin\": {\"phone\": \"8963254785\", \"email\": \"ruhin@workmail.com\"}\n",
    "}\n",
    "\n",
    "# Function to add a new contact\n",
    "def add_contact(name, phone, email):\n",
    "    contacts[name] = {\"phone\": phone, \"email\": email}\n",
    "\n",
    "# Function to update a contact\n",
    "def update_contact(name, phone=None, email=None):\n",
    "    if name in contacts:\n",
    "        if phone:\n",
    "            contacts[name][\"phone\"] = phone\n",
    "        if email:\n",
    "            contacts[name][\"email\"] = email\n",
    "    else:\n",
    "        print(f\"Contact {name} not found.\")\n",
    "\n",
    "# Filter contacts with a Gmail address\n",
    "gmail_contacts = {name: info for name, info in contacts.items() if \"gmail.com\" in info[\"email\"]}\n",
    "\n",
    "# Function to display contact details\n",
    "def display_contact(name, details):\n",
    "    print(f\"Name: {name}\\nPhone: {details['phone']}\\nEmail: {details['email']}\\n\")\n",
    "\n",
    "# Adding a new contact\n",
    "add_contact(\"Teju\", \"9658447888\", \"tej33@gmail.com\")\n",
    "\n",
    "# Updating an existing contact\n",
    "update_contact(\"Tejasri\", email=\"madepallitej@gmail.com\")\n",
    "\n",
    "# Display all contacts\n",
    "for name, details in contacts.items():\n",
    "    display_contact(name, details)\n",
    "\n",
    "# Display contacts with Gmail\n",
    "print(\"Contacts with Gmail addresses:\")\n",
    "for name, details in gmail_contacts.items():\n",
    "    display_contact(name, details)\n"
   ]
  },
  {
   "cell_type": "code",
   "execution_count": null,
   "id": "e36e330e-3255-41fb-b3f6-ee9063297e4a",
   "metadata": {},
   "outputs": [],
   "source": []
  }
 ],
 "metadata": {
  "kernelspec": {
   "display_name": "Python 3 (ipykernel)",
   "language": "python",
   "name": "python3"
  },
  "language_info": {
   "codemirror_mode": {
    "name": "ipython",
    "version": 3
   },
   "file_extension": ".py",
   "mimetype": "text/x-python",
   "name": "python",
   "nbconvert_exporter": "python",
   "pygments_lexer": "ipython3",
   "version": "3.12.4"
  }
 },
 "nbformat": 4,
 "nbformat_minor": 5
}
