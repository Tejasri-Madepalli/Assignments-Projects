{
 "cells": [
  {
   "cell_type": "code",
   "execution_count": 3,
   "id": "59465820-7cf3-4a76-99fb-a5d8d55768be",
   "metadata": {},
   "outputs": [
    {
     "name": "stdin",
     "output_type": "stream",
     "text": [
      "Enter a city name:  Gujarat\n"
     ]
    },
    {
     "name": "stdout",
     "output_type": "stream",
     "text": [
      "city : Gujarat\n",
      "temparaure :27\n",
      "precipitation : 10\n",
      "wind: 22\n",
      "weather :cloudy\n"
     ]
    }
   ],
   "source": [
    "#basicWeatherDataLookUp\n",
    "cities = {\n",
    "    'Gujarat': {\"temp\": 27,\"precipitation\" : 10,\"wind\" : 22,\"weather\" : 'cloudy'},\n",
    "    'Maharashtra': {\"temp\": 32,\"precipitation\" : 20,\"wind\" : 32,\"weather\" : 'rainy'},\n",
    "    'Rajasthan': {\"temp\": 34,\"precipitation\" : 30,\"wind\" : 42,\"weather\" : 'sunny'},\n",
    "    \n",
    "}\n",
    "def weatherlookup(city_name):\n",
    "   \n",
    "    format=lambda a:(f\"city : {city_name}\\n\"\n",
    "                     f\"temparaure :{a['temp']}\\n\"\n",
    "                     f\"precipitation : {a['precipitation']}\\n\"\n",
    "                     f\"wind: {a['wind']}\\n\"\n",
    "                     f\"weather :{a['weather']}\")\n",
    "    if city_name in cities:\n",
    "        outputt=cities[city_name]\n",
    "        return format(outputt)\n",
    "    else:\n",
    "        return \"Error: City not found\"\n",
    "def mainmethod():\n",
    "    city_name = input(\"Enter a city name: \")\n",
    "    report = weatherlookup(city_name)\n",
    "    print(report)\n",
    "\n",
    "mainmethod()"
   ]
  },
  {
   "cell_type": "code",
   "execution_count": null,
   "id": "7e5260ac-89c0-46e1-a454-09b8f26b6be8",
   "metadata": {},
   "outputs": [],
   "source": []
  }
 ],
 "metadata": {
  "kernelspec": {
   "display_name": "Python 3 (ipykernel)",
   "language": "python",
   "name": "python3"
  },
  "language_info": {
   "codemirror_mode": {
    "name": "ipython",
    "version": 3
   },
   "file_extension": ".py",
   "mimetype": "text/x-python",
   "name": "python",
   "nbconvert_exporter": "python",
   "pygments_lexer": "ipython3",
   "version": "3.12.4"
  }
 },
 "nbformat": 4,
 "nbformat_minor": 5
}
